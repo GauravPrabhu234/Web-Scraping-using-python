{
 "cells": [
  {
   "cell_type": "code",
   "execution_count": 1,
   "id": "1cb77131",
   "metadata": {},
   "outputs": [
    {
     "name": "stdout",
     "output_type": "stream",
     "text": [
      "Requirement already satisfied: beautifulsoup4 in c:\\users\\gaurav\\anaconda3\\lib\\site-packages (4.12.2)\n",
      "Requirement already satisfied: soupsieve>1.2 in c:\\users\\gaurav\\anaconda3\\lib\\site-packages (from beautifulsoup4) (2.4)\n",
      "Note: you may need to restart the kernel to use updated packages.\n"
     ]
    }
   ],
   "source": [
    "pip install beautifulsoup4"
   ]
  },
  {
   "cell_type": "code",
   "execution_count": 1,
   "id": "7e5817d1",
   "metadata": {},
   "outputs": [],
   "source": [
    "import requests\n",
    "from bs4 import BeautifulSoup\n",
    "import pandas as pd\n",
    "\n",
    "# base url of the best sellers page for teaching & education books\n",
    "base_url = \"https://www.amazon.in/gp/bestsellers/books/4149461031/ref=zg_bs_pg_{}?ie=UTF8&pg={}\"\n",
    "\n",
    "# http headers to mimic a browser visit\n",
    "headers = {\n",
    "    \"User-Agent\": \"Mozilla/5.0 (Windows NT 10.0; Win64; x64) AppleWebKit/537.36 (KHTML, like Gecko) Chrome/58.0.3029.110 Safari/537.3\"\n",
    "}"
   ]
  },
  {
   "cell_type": "code",
   "execution_count": 2,
   "id": "fe4cb24e",
   "metadata": {},
   "outputs": [],
   "source": [
    "# initialize a list to store book data\n",
    "book_list = []\n",
    "\n",
    "# iterate over the first 3 pages to get top 50 books (assuming each page has about 20 items)\n",
    "for page in range(1, 4):\n",
    "    # construct the URL for the current page\n",
    "    url = base_url.format(page, page)\n",
    "    \n",
    "    # send a GET request to the url\n",
    "    response = requests.get(url, headers=headers)\n",
    "    \n",
    "    # parse the HTML content using BeautifulSoup\n",
    "    soup = BeautifulSoup(response.content, \"lxml\")\n",
    "    \n",
    "    # find all the book elements\n",
    "    books = soup.find_all(\"div\", {\"class\": \"zg-grid-general-faceout\"})\n",
    "    \n",
    "    # iterate over each book element to extract data\n",
    "    for book in books:\n",
    "        if len(book_list) < 50:  # stop once we've collected 50 books\n",
    "            author = book.find(\"a\", class_=\"a-size-small a-link-child\").get_text(strip=True) if book.find(\"a\", class_=\"a-size-small a-link-child\") else \"N/A\"\n",
    "            rating = book.find(\"span\", class_=\"a-icon-alt\").get_text(strip=True) if book.find(\"span\", class_=\"a-icon-alt\") else \"N/A\"\n",
    "            \n",
    "            # append the extracted data to the book_list\n",
    "            book_list.append({\n",
    "                \"Author\": author,\n",
    "                \"Rating\": rating\n",
    "            })\n",
    "        else:\n",
    "            break"
   ]
  },
  {
   "cell_type": "code",
   "execution_count": 3,
   "id": "c6e0d26c",
   "metadata": {},
   "outputs": [
    {
     "name": "stdout",
     "output_type": "stream",
     "text": [
      "                    Author              Rating\n",
      "0  Samapti Sinha Mahapatra  4.6 out of 5 stars\n",
      "1                      N/A  4.4 out of 5 stars\n",
      "2             Kriti Sharma  4.6 out of 5 stars\n",
      "3                      N/A  4.8 out of 5 stars\n",
      "4                 PR Yadav  4.4 out of 5 stars\n"
     ]
    }
   ],
   "source": [
    "df = pd.DataFrame(book_list)\n",
    "\n",
    "print(df.head())\n",
    "\n",
    "# save the DataFrame to a CSV file\n",
    "df.to_csv(\"amazon_top_50_books_authors_ratings.csv\", index=False)"
   ]
  },
  {
   "cell_type": "code",
   "execution_count": 4,
   "id": "70dad158",
   "metadata": {},
   "outputs": [
    {
     "name": "stdout",
     "output_type": "stream",
     "text": [
      "                     Author              Rating\n",
      "4                  PR Yadav  4.4 out of 5 stars\n",
      "7                       N/A  4.2 out of 5 stars\n",
      "35             Sönke Ahrens  4.3 out of 5 stars\n",
      "21   Oswaal Editorial Board  4.9 out of 5 stars\n",
      "23          Nikhil Kr Gupta  4.5 out of 5 stars\n",
      "43  EduGorilla Prep Experts                 N/A\n",
      "26                   Mangal  4.5 out of 5 stars\n",
      "17          Nalini Sorensen  4.5 out of 5 stars\n",
      "3                       N/A  4.8 out of 5 stars\n",
      "33          Dr. Sima Kumari  4.1 out of 5 stars\n",
      "8                       N/A  4.7 out of 5 stars\n",
      "24                      N/A  4.0 out of 5 stars\n",
      "27        Ishinna B. Sadana  4.7 out of 5 stars\n",
      "19                      N/A  4.5 out of 5 stars\n",
      "38      Vijeta Competitions  4.6 out of 5 stars\n"
     ]
    }
   ],
   "source": [
    "print(df.sample(15))"
   ]
  },
  {
   "cell_type": "code",
   "execution_count": 5,
   "id": "a2dcedf6",
   "metadata": {},
   "outputs": [
    {
     "data": {
      "text/plain": [
       "Author    0\n",
       "Rating    0\n",
       "dtype: int64"
      ]
     },
     "execution_count": 5,
     "metadata": {},
     "output_type": "execute_result"
    }
   ],
   "source": [
    "df.isnull().sum()"
   ]
  },
  {
   "cell_type": "code",
   "execution_count": null,
   "id": "4b244697",
   "metadata": {},
   "outputs": [],
   "source": []
  }
 ],
 "metadata": {
  "kernelspec": {
   "display_name": "Python 3 (ipykernel)",
   "language": "python",
   "name": "python3"
  },
  "language_info": {
   "codemirror_mode": {
    "name": "ipython",
    "version": 3
   },
   "file_extension": ".py",
   "mimetype": "text/x-python",
   "name": "python",
   "nbconvert_exporter": "python",
   "pygments_lexer": "ipython3",
   "version": "3.11.5"
  }
 },
 "nbformat": 4,
 "nbformat_minor": 5
}
